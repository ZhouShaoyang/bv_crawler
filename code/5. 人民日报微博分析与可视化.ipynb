{
 "cells": [
  {
   "cell_type": "markdown",
   "metadata": {},
   "source": [
    "# 人民日报微博可视化示例"
   ]
  },
  {
   "cell_type": "code",
   "execution_count": null,
   "metadata": {},
   "outputs": [],
   "source": [
    "# 文本数据最直观的使用方法可以制作词云图，找出一段时间内的发帖重点\n",
    "# 使用jieba分词包，pyecharts包分词并制作人民日报微博发帖词云\n",
    "!pip install -i https://pypi.tuna.tsinghua.edu.cn/simple jieba pyecharts"
   ]
  },
  {
   "cell_type": "code",
   "execution_count": null,
   "metadata": {},
   "outputs": [],
   "source": [
    "import jieba\n",
    "from collections import Counter\n",
    "from pyecharts import options as opts\n",
    "from pyecharts.charts import WordCloud\n",
    "from pyecharts.globals import CurrentConfig, NotebookType\n",
    "CurrentConfig.NOTEBOOK_TYPE = NotebookType.JUPYTER_LAB"
   ]
  },
  {
   "cell_type": "code",
   "execution_count": null,
   "metadata": {},
   "outputs": [],
   "source": [
    "# 初始化jieba\n",
    "jieba.initialize()\n",
    "# 增加微博常用停用词与符号\n",
    "STOPWORDS = [' ', '#', '!', '。', '【', '】', '@', '?', '\\xa0', '\\n', '；', '：', '/', '“', '”', '‘', '’', '，', ':','(', ')', '（', '）']\n",
    "# 增加自定义词汇\n",
    "ADDWORDS = ['']\n",
    "for item in ADDWORDS:\n",
    "    jieba.add_word(item, 999)"
   ]
  },
  {
   "cell_type": "code",
   "execution_count": null,
   "metadata": {},
   "outputs": [],
   "source": [
    "# 停用词函数\n",
    "def stopwords(lists):\n",
    "    result = []\n",
    "    stopwords = STOPWORDS\n",
    "    for item in lists:\n",
    "        if item not in stopwords:\n",
    "            result.append(item)\n",
    "    return result\n",
    "\n",
    "# 切词函数\n",
    "def cutwords():\n",
    "    result = []\n",
    "    with open('人民日报微博语料.txt', 'r', encoding='utf-8') as f:\n",
    "        original = ' '.join(f.readlines())\n",
    "        segment = dict(Counter(stopwords(jieba.lcut(original))))\n",
    "        for item in segment.items():\n",
    "            result.append(item)\n",
    "    return result\n",
    "\n",
    "# 词云图画图函数\n",
    "def wordcloud(data) -> WordCloud:\n",
    "    c = (\n",
    "        WordCloud()\n",
    "        .add(series_name='', data_pair=data, word_size_range=[20, 100])\n",
    "        .set_global_opts(\n",
    "        title_opts=opts.TitleOpts(\n",
    "            title='人民日报微博词云图', title_textstyle_opts=opts.TextStyleOpts(font_size=20))\n",
    "        ))\n",
    "    return c"
   ]
  },
  {
   "cell_type": "code",
   "execution_count": null,
   "metadata": {},
   "outputs": [],
   "source": [
    "# 加载js渲染脚本\n",
    "wordcloud(cutwords()).load_javascript()"
   ]
  },
  {
   "cell_type": "code",
   "execution_count": null,
   "metadata": {},
   "outputs": [],
   "source": [
    "# 展示词云图\n",
    "wordcloud(cutwords()).render_notebook()"
   ]
  }
 ],
 "metadata": {
  "kernelspec": {
   "display_name": "Python 3",
   "language": "python",
   "name": "python3"
  },
  "language_info": {
   "codemirror_mode": {
    "name": "ipython",
    "version": 3
   },
   "file_extension": ".py",
   "mimetype": "text/x-python",
   "name": "python",
   "nbconvert_exporter": "python",
   "pygments_lexer": "ipython3",
   "version": "3.7.6"
  }
 },
 "nbformat": 4,
 "nbformat_minor": 4
}
